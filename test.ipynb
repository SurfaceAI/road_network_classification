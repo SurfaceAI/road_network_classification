{
 "cells": [
  {
   "cell_type": "code",
   "execution_count": 7,
   "metadata": {},
   "outputs": [
    {
     "data": {
      "text/plain": [
       "array([[[ 74,  72,  72, ...,  87,  86,  86],\n",
       "        [ 73,  71,  70, ...,  91,  90,  90],\n",
       "        [ 73,  71,  70, ...,  93,  93,  94],\n",
       "        ...,\n",
       "        [252, 252, 252, ..., 235, 235, 235],\n",
       "        [252, 252, 252, ..., 235, 235, 235],\n",
       "        [252, 252, 252, ..., 235, 235, 235]],\n",
       "\n",
       "       [[ 79,  77,  76, ...,  86,  85,  85],\n",
       "        [ 78,  76,  74, ...,  90,  89,  89],\n",
       "        [ 78,  76,  74, ...,  92,  92,  93],\n",
       "        ...,\n",
       "        [253, 254, 254, ..., 242, 242, 242],\n",
       "        [254, 254, 254, ..., 242, 242, 242],\n",
       "        [254, 254, 254, ..., 242, 242, 242]],\n",
       "\n",
       "       [[ 39,  38,  38, ...,  82,  81,  81],\n",
       "        [ 39,  37,  37, ...,  86,  85,  85],\n",
       "        [ 39,  38,  37, ...,  88,  88,  89],\n",
       "        ...,\n",
       "        [253, 253, 253, ..., 248, 248, 248],\n",
       "        [253, 253, 253, ..., 248, 248, 248],\n",
       "        [253, 253, 253, ..., 248, 248, 248]]], dtype=uint8)"
      ]
     },
     "execution_count": 7,
     "metadata": {},
     "output_type": "execute_result"
    }
   ],
   "source": [
    "import numpy as np\n",
    "from PIL import Image\n",
    "from equilib import equi2pers\n",
    "\n",
    "# Input equirectangular image\n",
    "equi_img = Image.open(\"/Users/alexandra/Documents/GitHub/road_network_classification/data/panorama/100555886002173.jpg\")\n",
    "equi_img = np.asarray(equi_img)\n",
    "equi_img = np.transpose(equi_img, (2, 0, 1))\n",
    "\n",
    "# rotations\n",
    "rots = {\n",
    "    'roll': 0.,\n",
    "    'pitch': np.pi/4,  # rotate vertical\n",
    "    'yaw': np.pi/4,  # rotate horizontal\n",
    "}\n",
    "\n",
    "# Run equi2pers\n",
    "pers_img = equi2pers(\n",
    "    equi=equi_img,\n",
    "    rots=rots,\n",
    "    height=480,\n",
    "    width=640,\n",
    "    fov_x=90.0,\n",
    "    mode=\"bilinear\",\n",
    ")\n",
    "\n",
    "pers_img"
   ]
  },
  {
   "cell_type": "code",
   "execution_count": 8,
   "metadata": {},
   "outputs": [],
   "source": [
    "        # transpose back to image format\n",
    "        pers_img = np.transpose(pers_img, (1, 2, 0))\n",
    "        Image.fromarray(pers_img).save(\"test.jpg\")"
   ]
  },
  {
   "cell_type": "code",
   "execution_count": null,
   "metadata": {},
   "outputs": [],
   "source": [
    "\n",
    "                from PIL import Image\n",
    "                counter = 0\n",
    "                for img in img_data:\n",
    "                    Image.fromarray(img).save(f\"test{counter}.jpg\")\n",
    "                    counter += 1"
   ]
  }
 ],
 "metadata": {
  "kernelspec": {
   "display_name": "sai_dc",
   "language": "python",
   "name": "python3"
  },
  "language_info": {
   "codemirror_mode": {
    "name": "ipython",
    "version": 3
   },
   "file_extension": ".py",
   "mimetype": "text/x-python",
   "name": "python",
   "nbconvert_exporter": "python",
   "pygments_lexer": "ipython3",
   "version": "3.12.0"
  }
 },
 "nbformat": 4,
 "nbformat_minor": 2
}
