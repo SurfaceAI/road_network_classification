{
 "cells": [
  {
   "cell_type": "code",
   "execution_count": 3,
   "metadata": {},
   "outputs": [],
   "source": [
    "import pandas as pd\n",
    "import geopandas as gpd"
   ]
  },
  {
   "cell_type": "code",
   "execution_count": 40,
   "metadata": {},
   "outputs": [],
   "source": [
    "# only keep cycleways"
   ]
  },
  {
   "cell_type": "code",
   "execution_count": 106,
   "metadata": {},
   "outputs": [],
   "source": [
    "gdf = gpd.read_file('/Users/alexandra/Documents/GitHub/road_network_classification/data/berlin_prio_vset/run1/berlin_ways_pred.shp', dtype={'ID': int}, crs=25833)"
   ]
  },
  {
   "cell_type": "code",
   "execution_count": 107,
   "metadata": {},
   "outputs": [],
   "source": [
    "\n",
    "# Define the custom order for the ROAD_TYPE column\n",
    "road_type_order = ['cycleway_hochbord', 'cycleway_lane', 'road', 'pedestrian', 'other']\n",
    "# Convert the ROAD_TYPE column to a categorical type with the specified order\n",
    "gdf['ROAD_TYPE'] = pd.Categorical(gdf['ROAD_TYPE'], categories=road_type_order, ordered=True)\n",
    "# Sort the DataFrame by ID and the custom ordered ROAD_TYPE\n",
    "gdf.sort_values(['ID', 'ROAD_TYPE'], inplace=True)\n",
    "gdf['ROAD_TYPE'] = gdf['ROAD_TYPE'].astype(str)"
   ]
  },
  {
   "cell_type": "code",
   "execution_count": 109,
   "metadata": {},
   "outputs": [],
   "source": [
    "gdf = gdf.groupby('ID').first().reset_index()"
   ]
  },
  {
   "cell_type": "code",
   "execution_count": 111,
   "metadata": {},
   "outputs": [],
   "source": [
    "gdf.crs = 25833"
   ]
  },
  {
   "cell_type": "code",
   "execution_count": 112,
   "metadata": {},
   "outputs": [],
   "source": [
    "gdf['ID'] = gdf['ID'].astype(int)"
   ]
  },
  {
   "cell_type": "code",
   "execution_count": 113,
   "metadata": {},
   "outputs": [],
   "source": [
    "gdf.to_file('/Users/alexandra/Documents/GitHub/road_network_classification/data/berlin_prio_vset/run1/berlin_ways_pred_cycleways.shp')"
   ]
  },
  {
   "cell_type": "code",
   "execution_count": null,
   "metadata": {},
   "outputs": [],
   "source": []
  }
 ],
 "metadata": {
  "kernelspec": {
   "display_name": "sai_dc",
   "language": "python",
   "name": "python3"
  },
  "language_info": {
   "codemirror_mode": {
    "name": "ipython",
    "version": 3
   },
   "file_extension": ".py",
   "mimetype": "text/x-python",
   "name": "python",
   "nbconvert_exporter": "python",
   "pygments_lexer": "ipython3",
   "version": "3.12.0"
  }
 },
 "nbformat": 4,
 "nbformat_minor": 2
}
