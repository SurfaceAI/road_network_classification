{
 "cells": [
  {
   "cell_type": "code",
   "execution_count": 199,
   "metadata": {},
   "outputs": [],
   "source": [
    "import pandas as pd\n",
    "import geopandas as gpd"
   ]
  },
  {
   "cell_type": "code",
   "execution_count": 200,
   "metadata": {},
   "outputs": [],
   "source": [
    "# only keep cycleways"
   ]
  },
  {
   "cell_type": "code",
   "execution_count": 201,
   "metadata": {},
   "outputs": [],
   "source": [
    "run = 2"
   ]
  },
  {
   "cell_type": "code",
   "execution_count": 202,
   "metadata": {},
   "outputs": [],
   "source": [
    "gdf = gpd.read_file(f'/Users/alexandra/Documents/GitHub/road_network_classification/data/berlin_prio_vset/run{run}/berlin_ways_pred.shp', dtype={'ID': int}, crs=25833)"
   ]
  },
  {
   "cell_type": "code",
   "execution_count": 203,
   "metadata": {},
   "outputs": [
    {
     "data": {
      "text/plain": [
       "Index(['OGC_FID', 'ID', 'ELEM_NR', 'IST_RADVOR', 'ZUSTAND', 'ZUSTAND_T',\n",
       "       'VERSION', 'SOLL_RVA', 'SOLL_FASTR', 'SOLL_ASPH', 'POTENZIAL',\n",
       "       'QUICKWIN', 'ANMERKUNG', 'MAß_NR', 'MAß_SEITE', 'STEP_STUFE',\n",
       "       'UKD__IN_T', 'AKTUELLES', 'BEZIRK', 'LäNGE', 'CHECKED', 'TYPE_GROUN',\n",
       "       'QUALITY_GR', 'AVG_QUALIT', 'WAY_LENGTH', 'N_SEGMENTS', 'ROAD_TYPE',\n",
       "       'TYPE_PRED', 'AVG_CLASS_', 'VOTE_COUNT', 'MIN_CAPTUR', 'MAX_CAPTUR',\n",
       "       'geometry'],\n",
       "      dtype='object')"
      ]
     },
     "execution_count": 203,
     "metadata": {},
     "output_type": "execute_result"
    }
   ],
   "source": [
    "gdf.columns"
   ]
  },
  {
   "cell_type": "code",
   "execution_count": 204,
   "metadata": {},
   "outputs": [],
   "source": [
    "gdf['ROAD_TYPE_refined'] = gdf['ROAD_TYPE'].apply(lambda x: 'cycleway' if x.startswith('cycleway') else x)"
   ]
  },
  {
   "cell_type": "code",
   "execution_count": 205,
   "metadata": {},
   "outputs": [],
   "source": [
    "gdf.sort_values(['ID', 'N_SEGMENTS'], ascending=False, inplace=True)\n",
    "gdf = gdf.groupby(['ID', 'ROAD_TYPE_refined']).first().reset_index()"
   ]
  },
  {
   "cell_type": "code",
   "execution_count": 206,
   "metadata": {},
   "outputs": [],
   "source": [
    "# Define the custom order for the ROAD_TYPE column\n",
    "road_type_order = ['cycleway', 'road', 'pedestrian', 'other']\n",
    "# Convert the ROAD_TYPE column to a categorical type with the specified order\n",
    "gdf['ROAD_TYPE_refined'] = pd.Categorical(gdf['ROAD_TYPE_refined'], categories=road_type_order, ordered=True)\n",
    "# Sort the DataFrame by ID and the custom ordered ROAD_TYPE\n",
    "gdf.sort_values(['ID', 'ROAD_TYPE_refined'], inplace=True)\n",
    "gdf['ROAD_TYPE_refined'] = gdf['ROAD_TYPE_refined'].astype(str)"
   ]
  },
  {
   "cell_type": "code",
   "execution_count": 207,
   "metadata": {},
   "outputs": [],
   "source": [
    "gdf = gdf.groupby('ID').first().reset_index()"
   ]
  },
  {
   "cell_type": "code",
   "execution_count": 208,
   "metadata": {},
   "outputs": [],
   "source": [
    "gdf.crs = 25833"
   ]
  },
  {
   "cell_type": "code",
   "execution_count": 209,
   "metadata": {},
   "outputs": [],
   "source": [
    "gdf['ID'] = gdf['ID'].astype(int)"
   ]
  },
  {
   "cell_type": "code",
   "execution_count": 210,
   "metadata": {},
   "outputs": [
    {
     "name": "stderr",
     "output_type": "stream",
     "text": [
      "/var/folders/m7/jb7xk8h91p541g43zv2r8l740000gn/T/ipykernel_5373/2255434053.py:1: UserWarning: Column names longer than 10 characters will be truncated when saved to ESRI Shapefile.\n",
      "  gdf.to_file(f'/Users/alexandra/Documents/GitHub/road_network_classification/data/berlin_prio_vset/run{run}/berlin_ways_pred_cycleways.shp')\n"
     ]
    }
   ],
   "source": [
    "gdf.to_file(f'/Users/alexandra/Documents/GitHub/road_network_classification/data/berlin_prio_vset/run{run}/berlin_ways_pred_cycleways.shp')"
   ]
  },
  {
   "cell_type": "code",
   "execution_count": null,
   "metadata": {},
   "outputs": [],
   "source": []
  }
 ],
 "metadata": {
  "kernelspec": {
   "display_name": "sai_dc",
   "language": "python",
   "name": "python3"
  },
  "language_info": {
   "codemirror_mode": {
    "name": "ipython",
    "version": 3
   },
   "file_extension": ".py",
   "mimetype": "text/x-python",
   "name": "python",
   "nbconvert_exporter": "python",
   "pygments_lexer": "ipython3",
   "version": "3.12.0"
  }
 },
 "nbformat": 4,
 "nbformat_minor": 2
}
