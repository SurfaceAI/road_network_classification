{
 "cells": [
  {
   "cell_type": "code",
   "execution_count": 497,
   "metadata": {},
   "outputs": [],
   "source": [
    "import pandas as pd\n",
    "import geopandas as gpd"
   ]
  },
  {
   "cell_type": "code",
   "execution_count": 498,
   "metadata": {},
   "outputs": [],
   "source": [
    "# only keep cycleways"
   ]
  },
  {
   "cell_type": "code",
   "execution_count": 524,
   "metadata": {},
   "outputs": [],
   "source": [
    "run = \"Test\"\n",
    "agg = \"ways\""
   ]
  },
  {
   "cell_type": "code",
   "execution_count": 525,
   "metadata": {},
   "outputs": [],
   "source": [
    "if agg == \"segments\":\n",
    "    # use segments\n",
    "    gdf = gpd.read_file(f'/Users/alexandra/Documents/GitHub/road_network_classification/data/berlin_prio_vset/run{run}/berlin_segments_pred.shp', dtype={'ID': int}, crs=25833)\n",
    "elif agg == \"ways\":\n",
    "    # use ways\n",
    "    gdf = gpd.read_file(f'/Users/alexandra/Documents/GitHub/road_network_classification/data/berlin_prio_vset/run{run}/berlin_ways_pred.shp', dtype={'ID': int}, crs=25833)"
   ]
  },
  {
   "cell_type": "code",
   "execution_count": 526,
   "metadata": {},
   "outputs": [],
   "source": [
    "# use predefined road type as target\n",
    "gdf['target_road_type'] = gdf['MAß_SEITE'].apply(lambda x: 'cycleway' if x == 'Beidseitig'\n",
    "                                                 else ('road' if x in ('Gesamte Straße', 'Gesamte Straß') \n",
    "                                                       else None))"
   ]
  },
  {
   "cell_type": "code",
   "execution_count": 527,
   "metadata": {},
   "outputs": [],
   "source": [
    "gdf['ROAD_TYPE_refined'] = gdf['ROAD_TYPE'].apply(lambda x: 'cycleway' if x in ('bike_lane', 'cycleway') else x)"
   ]
  },
  {
   "cell_type": "code",
   "execution_count": 528,
   "metadata": {},
   "outputs": [
    {
     "data": {
      "text/plain": [
       "2247"
      ]
     },
     "execution_count": 528,
     "metadata": {},
     "output_type": "execute_result"
    }
   ],
   "source": [
    "len(gdf)"
   ]
  },
  {
   "cell_type": "code",
   "execution_count": 529,
   "metadata": {},
   "outputs": [
    {
     "data": {
      "text/plain": [
       "target_road_type\n",
       "cycleway    829\n",
       "road        517\n",
       "Name: count, dtype: int64"
      ]
     },
     "execution_count": 529,
     "metadata": {},
     "output_type": "execute_result"
    }
   ],
   "source": [
    "gdf.target_road_type.value_counts()"
   ]
  },
  {
   "cell_type": "code",
   "execution_count": 530,
   "metadata": {},
   "outputs": [],
   "source": [
    "# only keep ways where target_road_type and road_type match\n",
    "gdf = gdf[(gdf['target_road_type'] == gdf['ROAD_TYPE_refined'])| (gdf['target_road_type'].isnull())].copy()"
   ]
  },
  {
   "cell_type": "code",
   "execution_count": 531,
   "metadata": {},
   "outputs": [],
   "source": [
    "road_type_order = ['cycleway', 'road', 'pedestrian', 'other']\n",
    "\n",
    "# select one road type per way\n",
    "if agg == \"ways\":\n",
    "\n",
    "    # for each road type, take the classification with the most votes (and segments if votes are tied)\n",
    "    gdf.sort_values(['ID', 'VOTE_COUNT', 'N_SEGMENTS'], ascending=False, inplace=True)\n",
    "    gdf = gdf.groupby(['ID', 'ROAD_TYPE_refined']).first().reset_index()\n",
    "\n",
    "\n",
    "    # Convert the ROAD_TYPE column to a categorical type with the specified order: use cycleways first\n",
    "    gdf['ROAD_TYPE_refined'] = pd.Categorical(gdf['ROAD_TYPE_refined'], categories=road_type_order, ordered=True)\n",
    "    gdf.sort_values(['ID', 'ROAD_TYPE_refined'], inplace=True)\n",
    "    # convert back to string to save as gpkg\n",
    "    gdf['ROAD_TYPE_refined'] = gdf['ROAD_TYPE_refined'].astype(str)\n",
    "    gdf = gdf.groupby('ID').first().reset_index()\n",
    "\n",
    "elif agg == \"segments\":\n",
    "    gdf.sort_values(['ID', 'GROUP_NUM', 'VOTE_COUNT', 'N_SEGMENTS'], ascending=False, inplace=True)\n",
    "    gdf = gdf.groupby(['ID','GROUP_NUM', 'ROAD_TYPE_refined']).first().reset_index()\n",
    "\n",
    "    # Convert the ROAD_TYPE column to a categorical type with the specified order: use cycleways first\n",
    "    gdf['ROAD_TYPE_refined'] = pd.Categorical(gdf['ROAD_TYPE_refined'], categories=road_type_order, ordered=True)\n",
    "    gdf.sort_values(['ID', 'GROUP_NUM', 'ROAD_TYPE_refined'], inplace=True)\n",
    "    # convert back to string to save as gpkg\n",
    "    gdf['ROAD_TYPE_refined'] = gdf['ROAD_TYPE_refined'].astype(str)\n",
    "    gdf = gdf.groupby(['ID','GROUP_NUM']).first().reset_index()\n"
   ]
  },
  {
   "cell_type": "code",
   "execution_count": 532,
   "metadata": {},
   "outputs": [],
   "source": [
    "gdf.crs = 25833"
   ]
  },
  {
   "cell_type": "code",
   "execution_count": 533,
   "metadata": {},
   "outputs": [],
   "source": [
    "gdf['ID'] = gdf['ID'].astype(int)"
   ]
  },
  {
   "cell_type": "code",
   "execution_count": 534,
   "metadata": {},
   "outputs": [],
   "source": [
    "if agg == \"segments\":\n",
    "    file = \"berlin_segments_pred_cycleways\"\n",
    "elif agg == \"ways\":\n",
    "    file = \"berlin_ways_pred_cycleways\""
   ]
  },
  {
   "cell_type": "code",
   "execution_count": 535,
   "metadata": {},
   "outputs": [
    {
     "name": "stderr",
     "output_type": "stream",
     "text": [
      "/var/folders/m7/jb7xk8h91p541g43zv2r8l740000gn/T/ipykernel_29464/2451296086.py:1: UserWarning: Column names longer than 10 characters will be truncated when saved to ESRI Shapefile.\n",
      "  gdf.to_file(f'/Users/alexandra/Documents/GitHub/road_network_classification/data/berlin_prio_vset/run{run}/{file}.shp')\n"
     ]
    }
   ],
   "source": [
    "gdf.to_file(f'/Users/alexandra/Documents/GitHub/road_network_classification/data/berlin_prio_vset/run{run}/{file}.shp')"
   ]
  },
  {
   "cell_type": "code",
   "execution_count": null,
   "metadata": {},
   "outputs": [],
   "source": []
  }
 ],
 "metadata": {
  "kernelspec": {
   "display_name": "sai_dc",
   "language": "python",
   "name": "python3"
  },
  "language_info": {
   "codemirror_mode": {
    "name": "ipython",
    "version": 3
   },
   "file_extension": ".py",
   "mimetype": "text/x-python",
   "name": "python",
   "nbconvert_exporter": "python",
   "pygments_lexer": "ipython3",
   "version": "3.12.0"
  }
 },
 "nbformat": 4,
 "nbformat_minor": 2
}
