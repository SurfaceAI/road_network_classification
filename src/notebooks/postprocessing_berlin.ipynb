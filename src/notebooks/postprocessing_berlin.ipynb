{
 "cells": [
  {
   "cell_type": "code",
   "execution_count": 76,
   "metadata": {},
   "outputs": [],
   "source": [
    "import pandas as pd\n",
    "import geopandas as gpd"
   ]
  },
  {
   "cell_type": "code",
   "execution_count": 77,
   "metadata": {},
   "outputs": [],
   "source": [
    "# only keep cycleways"
   ]
  },
  {
   "cell_type": "code",
   "execution_count": 91,
   "metadata": {},
   "outputs": [],
   "source": [
    "run = 8\n",
    "agg = \"segments\""
   ]
  },
  {
   "cell_type": "code",
   "execution_count": 92,
   "metadata": {},
   "outputs": [],
   "source": [
    "gdf = gpd.read_file(f'/Users/alexandra/Documents/GitHub/road_network_classification/data/berlin_prio_vset/run{run}/berlin_{agg}_pred.shp', dtype={'ID': int}, crs=25833)"
   ]
  },
  {
   "cell_type": "code",
   "execution_count": 80,
   "metadata": {},
   "outputs": [],
   "source": [
    "# use predefined road type as target\n",
    "gdf['target_road_type'] = gdf['MAß_SEITE'].apply(lambda x: 'cycleway' if x == 'Beidseitig'\n",
    "                                                 else ('road' if x in ('Gesamte Straße', 'Gesamte Straß') \n",
    "                                                       else None))"
   ]
  },
  {
   "cell_type": "code",
   "execution_count": 81,
   "metadata": {},
   "outputs": [],
   "source": [
    "gdf['ROAD_TYPE_refined'] = gdf['ROAD_TYPE'].apply(lambda x: 'cycleway' if x in ('bike_lane', 'cycleway') else x)"
   ]
  },
  {
   "cell_type": "code",
   "execution_count": 83,
   "metadata": {},
   "outputs": [
    {
     "data": {
      "text/plain": [
       "target_road_type\n",
       "cycleway    894\n",
       "road        561\n",
       "Name: count, dtype: int64"
      ]
     },
     "execution_count": 83,
     "metadata": {},
     "output_type": "execute_result"
    }
   ],
   "source": [
    "gdf.target_road_type.value_counts()"
   ]
  },
  {
   "cell_type": "code",
   "execution_count": 84,
   "metadata": {},
   "outputs": [],
   "source": [
    "# only keep ways where target_road_type and road_type match\n",
    "gdf = gdf[(gdf['target_road_type'] == gdf['ROAD_TYPE_refined'])| (gdf['target_road_type'].isnull())].copy()"
   ]
  },
  {
   "cell_type": "code",
   "execution_count": 85,
   "metadata": {},
   "outputs": [],
   "source": [
    "# how to choose bike lane or cycleway? first: which has more segments covered, second, which has more images"
   ]
  },
  {
   "cell_type": "code",
   "execution_count": 86,
   "metadata": {},
   "outputs": [],
   "source": [
    "road_type_order = ['cycleway', 'road', 'pedestrian', 'other']\n",
    "\n",
    "# select one road type per way\n",
    "if agg == \"ways\":\n",
    "\n",
    "    # for each road type, take the classification with the most votes (and segments if votes are tied)\n",
    "    gdf.sort_values(['ID', 'SEGMENT_VO', 'AVG_IMG_CO'], ascending=False, inplace=True)\n",
    "    gdf = gdf.groupby(['ID', 'ROAD_TYPE_refined']).first().reset_index()\n",
    "\n",
    "\n",
    "    # Convert the ROAD_TYPE column to a categorical type with the specified order: use cycleways first\n",
    "    gdf['ROAD_TYPE_refined'] = pd.Categorical(gdf['ROAD_TYPE_refined'], categories=road_type_order, ordered=True)\n",
    "    gdf.sort_values(['ID', 'ROAD_TYPE_refined'], inplace=True)\n",
    "    # convert back to string to save as gpkg\n",
    "    gdf['ROAD_TYPE_refined'] = gdf['ROAD_TYPE_refined'].astype(str)\n",
    "    gdf = gdf.groupby('ID').first().reset_index()\n",
    "\n",
    "elif agg == \"segments\":\n",
    "    gdf.sort_values(['ID', 'GROUP_NUM','SEGMENT_VO', 'AVG_IMG_CO'], ascending=False, inplace=True)\n",
    "    gdf = gdf.groupby(['ID','GROUP_NUM', 'ROAD_TYPE_refined']).first().reset_index()\n",
    "\n",
    "    # Convert the ROAD_TYPE column to a categorical type with the specified order: use cycleways first\n",
    "    gdf['ROAD_TYPE_refined'] = pd.Categorical(gdf['ROAD_TYPE_refined'], categories=road_type_order, ordered=True)\n",
    "    gdf.sort_values(['ID', 'GROUP_NUM', 'ROAD_TYPE_refined'], inplace=True)\n",
    "    # convert back to string to save as gpkg\n",
    "    gdf['ROAD_TYPE_refined'] = gdf['ROAD_TYPE_refined'].astype(str)\n",
    "    gdf = gdf.groupby(['ID','GROUP_NUM']).first().reset_index()\n"
   ]
  },
  {
   "cell_type": "code",
   "execution_count": 88,
   "metadata": {},
   "outputs": [],
   "source": [
    "gdf['ID'] = gdf['ID'].astype(int)"
   ]
  },
  {
   "cell_type": "code",
   "execution_count": 90,
   "metadata": {},
   "outputs": [
    {
     "name": "stderr",
     "output_type": "stream",
     "text": [
      "/var/folders/m7/jb7xk8h91p541g43zv2r8l740000gn/T/ipykernel_38885/2451296086.py:1: UserWarning: Column names longer than 10 characters will be truncated when saved to ESRI Shapefile.\n",
      "  gdf.to_file(f'/Users/alexandra/Documents/GitHub/road_network_classification/data/berlin_prio_vset/run{run}/{file}.shp')\n"
     ]
    }
   ],
   "source": [
    "gdf.to_file(f'/Users/alexandra/Documents/GitHub/road_network_classification/data/berlin_prio_vset/run{run}/berlin_{agg}_pred_cycleways.shp')"
   ]
  }
 ],
 "metadata": {
  "kernelspec": {
   "display_name": "sai_dc",
   "language": "python",
   "name": "python3"
  },
  "language_info": {
   "codemirror_mode": {
    "name": "ipython",
    "version": 3
   },
   "file_extension": ".py",
   "mimetype": "text/x-python",
   "name": "python",
   "nbconvert_exporter": "python",
   "pygments_lexer": "ipython3",
   "version": "3.12.0"
  }
 },
 "nbformat": 4,
 "nbformat_minor": 2
}
